{
 "cells": [
  {
   "cell_type": "markdown",
   "metadata": {
    "id": "IPTUOyEyipqI"
   },
   "source": [
    "# Machine Learning for Finance Homework 3 NLP Part"
   ]
  },
  {
   "cell_type": "markdown",
   "metadata": {
    "id": "6DkJtekFoFIH"
   },
   "source": [
    "##1. Basic NLP"
   ]
  },
  {
   "cell_type": "markdown",
   "metadata": {
    "id": "cLCIUtStoK7B"
   },
   "source": [
    "### 1.1 What is NLP?"
   ]
  },
  {
   "cell_type": "markdown",
   "metadata": {
    "id": "TgMbdGDxoNpN"
   },
   "source": []
  },
  {
   "cell_type": "markdown",
   "metadata": {},
   "source": []
  },
  {
   "cell_type": "markdown",
   "metadata": {
    "id": "yl6wrKpyoPMq"
   },
   "source": [
    "### 1.2 List three positive use cases of NLP in the field of finance"
   ]
  },
  {
   "cell_type": "markdown",
   "metadata": {
    "id": "H3gKwLrOoWRd"
   },
   "source": []
  },
  {
   "cell_type": "markdown",
   "metadata": {
    "id": "lQXLdg-WoWqK"
   },
   "source": [
    "### 1.3 What is tokenization?"
   ]
  },
  {
   "cell_type": "markdown",
   "metadata": {
    "id": "n0_kw4rIor2x"
   },
   "source": []
  },
  {
   "cell_type": "markdown",
   "metadata": {
    "id": "QnN0hO8aorTC"
   },
   "source": [
    "### 1.4 What is the difference between stemming and lemmatization?"
   ]
  },
  {
   "cell_type": "markdown",
   "metadata": {
    "id": "9aK0S63dpLXb"
   },
   "source": [
    "### 1.5 What is BERT? What makes it different?"
   ]
  },
  {
   "cell_type": "markdown",
   "metadata": {
    "id": "dg62QO10pO7c"
   },
   "source": []
  },
  {
   "cell_type": "markdown",
   "metadata": {
    "id": "XJvBs8KRi8NT"
   },
   "source": [
    "## 2. Pre-trained model: FinBERT"
   ]
  },
  {
   "cell_type": "markdown",
   "metadata": {
    "id": "qmccr1qR5dVR"
   },
   "source": [
    "Your hedge fund manager wakes up every morning at 4am and wants a concise summary of the news relevant to his portfolio. He/She wants a quick summary showing the headlines of the news as well as classified sentiment scores.\n",
    "\n",
    "Furthermore, he/she asks you to aggregate this information per stock and summarize the overall tone for this stock"
   ]
  },
  {
   "cell_type": "markdown",
   "metadata": {
    "id": "my7vpEpGGxe0"
   },
   "source": [
    "2.1 Install the transformers package"
   ]
  },
  {
   "cell_type": "code",
   "execution_count": 7,
   "metadata": {
    "id": "N0C4daPHl0Ez"
   },
   "outputs": [],
   "source": []
  },
  {
   "cell_type": "markdown",
   "metadata": {
    "id": "Blt_iC8CGuHC"
   },
   "source": [
    "2.2 import the requests package and other libraries you might need"
   ]
  },
  {
   "cell_type": "code",
   "execution_count": 7,
   "metadata": {
    "id": "ol17162mosH6"
   },
   "outputs": [],
   "source": []
  },
  {
   "cell_type": "markdown",
   "metadata": {
    "id": "9TjSYXmiHlRk"
   },
   "source": [
    "The following dictionary represents our portfolio of stocks using the following logic (key, value) = (holding-name, branch), where $$branch ∈ \\{\"business\", \"entertainment\", \"general\", \"health\", \"science\", \"sports\", \"technology\"\\}$$\n",
    "following the NewsAPI documentation.\n",
    "\n",
    "To save you some time, a typical request is built similar to:\n",
    "\"https://newsapi.org/v2/top-headlines?country=us&q=*KEYWORD*&category=*CATEGORY*&sortBy=top&apiKey=*YOURKEYHERE*\".\n",
    "\n",
    "For example: \n",
    "\n",
    "https://newsapi.org/v2/top-headlines?country=us&q=apple&category=technology&sortBy=top&apiKey=123ab45c687d...\n",
    "\n",
    "\n",
    "\n",
    "\n",
    "\n",
    "Please see:\n",
    "\n",
    "\n",
    "1.   https://newsapi.org/docs (To construct your HTTP GET-requests)\n",
    "2.   https://newsapi.org/register (To obtain your API key)\n",
    "\n",
    "\n"
   ]
  },
  {
   "cell_type": "markdown",
   "metadata": {
    "id": "isJZn8iQpWLM"
   },
   "source": [
    "Say our portfolio consists of these four assets:"
   ]
  },
  {
   "cell_type": "code",
   "execution_count": 8,
   "metadata": {
    "id": "pEDZ7HMGw_vO"
   },
   "outputs": [],
   "source": [
    "portfolio = dict({\"apple\": 'technology', \"tesla\": 'business', \"amazon\": 'technology', \"s&p500\": 'business'})\n",
    "\n",
    "# we are going to use the S&P500 to get a general idea of the sentiment of news in the US market"
   ]
  },
  {
   "cell_type": "markdown",
   "metadata": {
    "id": "unGk5HE8KCNZ"
   },
   "source": [
    "2.3 Write the function fetch_news() that returns a dictionary that stores the name of the holding as key (analogous to our stock portfolio) and as value an array that holds the strings of news"
   ]
  },
  {
   "cell_type": "code",
   "execution_count": 9,
   "metadata": {
    "id": "ohgxARP0wf7W"
   },
   "outputs": [],
   "source": [
    "def fetch_news(): \n",
    "  pass"
   ]
  },
  {
   "cell_type": "code",
   "execution_count": 10,
   "metadata": {
    "id": "qOZASp8esuca"
   },
   "outputs": [],
   "source": [
    "fetch_news()"
   ]
  },
  {
   "cell_type": "markdown",
   "metadata": {
    "id": "T8YUtRDvKo9I"
   },
   "source": [
    "2.4 Following the lecture notes, using the pre-trained Finbert Classifier, classify the news fetched in 2.3 into neutral, positive or negative by modifying the below code:"
   ]
  },
  {
   "cell_type": "markdown",
   "metadata": {
    "id": "9w_JY0czL6x6"
   },
   "source": [
    "2.5 Last but not least, find the total tone for each element in our portfolio, where:\n",
    "\n",
    "\n",
    "*   neutral=0\n",
    "*   positive=+1\n",
    "*   negative=-1"
   ]
  },
  {
   "cell_type": "code",
   "execution_count": 11,
   "metadata": {
    "colab": {
     "base_uri": "https://localhost:8080/",
     "height": 374
    },
    "id": "0_M89j0ELHT0",
    "outputId": "e80c9afd-9f15-4ebc-856a-872246b23f6e"
   },
   "outputs": [
    {
     "ename": "ModuleNotFoundError",
     "errorDetails": {
      "actions": [
       {
        "action": "open_url",
        "actionText": "Open Examples",
        "url": "/notebooks/snippets/importing_libraries.ipynb"
       }
      ]
     },
     "evalue": "ignored",
     "output_type": "error",
     "traceback": [
      "\u001b[0;31m---------------------------------------------------------------------------\u001b[0m",
      "\u001b[0;31mModuleNotFoundError\u001b[0m                       Traceback (most recent call last)",
      "\u001b[0;32m<ipython-input-11-ab2339ea2072>\u001b[0m in \u001b[0;36m<module>\u001b[0;34m\u001b[0m\n\u001b[1;32m      1\u001b[0m \u001b[0;31m# BUILD YOUR CODE ON TOP OF THIS EXAMPLE CODE IN THE CELL BELOW\u001b[0m\u001b[0;34m\u001b[0m\u001b[0;34m\u001b[0m\u001b[0m\n\u001b[0;32m----> 2\u001b[0;31m \u001b[0;32mfrom\u001b[0m \u001b[0mtransformers\u001b[0m \u001b[0;32mimport\u001b[0m \u001b[0mBertTokenizer\u001b[0m\u001b[0;34m,\u001b[0m \u001b[0mBertForSequenceClassification\u001b[0m\u001b[0;34m\u001b[0m\u001b[0;34m\u001b[0m\u001b[0m\n\u001b[0m\u001b[1;32m      3\u001b[0m \u001b[0;32mimport\u001b[0m \u001b[0mnumpy\u001b[0m \u001b[0;32mas\u001b[0m \u001b[0mnp\u001b[0m\u001b[0;34m\u001b[0m\u001b[0;34m\u001b[0m\u001b[0m\n\u001b[1;32m      4\u001b[0m \u001b[0;34m\u001b[0m\u001b[0m\n\u001b[1;32m      5\u001b[0m \u001b[0mfinbert\u001b[0m \u001b[0;34m=\u001b[0m \u001b[0mBertForSequenceClassification\u001b[0m\u001b[0;34m.\u001b[0m\u001b[0mfrom_pretrained\u001b[0m\u001b[0;34m(\u001b[0m\u001b[0;34m'yiyanghkust/finbert-tone'\u001b[0m\u001b[0;34m,\u001b[0m\u001b[0mnum_labels\u001b[0m\u001b[0;34m=\u001b[0m\u001b[0;36m3\u001b[0m\u001b[0;34m)\u001b[0m\u001b[0;34m\u001b[0m\u001b[0;34m\u001b[0m\u001b[0m\n",
      "\u001b[0;31mModuleNotFoundError\u001b[0m: No module named 'transformers'",
      "",
      "\u001b[0;31m---------------------------------------------------------------------------\u001b[0;32m\nNOTE: If your import is failing due to a missing package, you can\nmanually install dependencies using either !pip or !apt.\n\nTo view examples of installing some common dependencies, click the\n\"Open Examples\" button below.\n\u001b[0;31m---------------------------------------------------------------------------\u001b[0m\n"
     ]
    }
   ],
   "source": [
    "# BUILD YOUR CODE ON TOP OF THIS EXAMPLE CODE IN THE CELL BELOW\n",
    "from transformers import BertTokenizer, BertForSequenceClassification\n",
    "import numpy as np\n",
    "\n",
    "finbert = BertForSequenceClassification.from_pretrained('yiyanghkust/finbert-tone',num_labels=3)\n",
    "tokenizer = BertTokenizer.from_pretrained('yiyanghkust/finbert-tone')\n",
    "\n",
    "sentences = [\"there is a shortage of capital, and we need extra financing\", \n",
    "             \"growth is strong and we have plenty of liquidity\", \n",
    "             \"there are doubts about our finances\", \n",
    "             \"profits are flat\"]\n",
    "\n",
    "inputs = tokenizer(sentences, return_tensors=\"pt\", padding=True)\n",
    "outputs = finbert(**inputs)[0]\n",
    "\n",
    "labels = {0:'neutral', 1:'positive',2:'negative'}\n",
    "for idx, sent in enumerate(sentences):\n",
    "    print(sent, '----', labels[np.argmax(outputs.detach().numpy()[idx])])\n",
    "  "
   ]
  },
  {
   "cell_type": "code",
   "execution_count": null,
   "metadata": {
    "id": "DGky3pfYmnVt"
   },
   "outputs": [],
   "source": [
    "# Your code here"
   ]
  },
  {
   "cell_type": "markdown",
   "metadata": {
    "id": "xhChHcH1n4xJ"
   },
   "source": [
    "2.6 What do you find from the results?"
   ]
  },
  {
   "cell_type": "markdown",
   "metadata": {
    "id": "7Lk0k9D7pfwl"
   },
   "source": []
  }
 ],
 "metadata": {
  "colab": {
   "provenance": []
  },
  "kernelspec": {
   "display_name": "Python 3 (ipykernel)",
   "language": "python",
   "name": "python3"
  },
  "language_info": {
   "codemirror_mode": {
    "name": "ipython",
    "version": 3
   },
   "file_extension": ".py",
   "mimetype": "text/x-python",
   "name": "python",
   "nbconvert_exporter": "python",
   "pygments_lexer": "ipython3",
   "version": "3.9.13"
  }
 },
 "nbformat": 4,
 "nbformat_minor": 1
}
