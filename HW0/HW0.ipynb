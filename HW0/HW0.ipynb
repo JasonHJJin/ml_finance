{
 "cells": [
  {
   "cell_type": "markdown",
   "metadata": {
    "id": "bIHdKObkrke_"
   },
   "source": [
    "In this notebook we cover a few very basics of python to get you started: \n",
    "1. Variable types\n",
    "2. Comment\n",
    "\n",
    "Reading material: [Python tutorial]https://docs.python.org/3.8/tutorial/"
   ]
  },
  {
   "cell_type": "markdown",
   "metadata": {
    "id": "MY0knYRnrkfI"
   },
   "source": [
    "## 1. Variable types\n",
    "Python will guess the type when you define the variable. For example, if you set x = 2, then Python will make x an integer. If you set x = 2.0, Python will make it a float."
   ]
  },
  {
   "cell_type": "markdown",
   "metadata": {
    "id": "tLPcaB66rkfJ"
   },
   "source": [
    "-  __integer__:  These are the signed integers ...−2,−1,0,1,2,..."
   ]
  },
  {
   "cell_type": "code",
   "execution_count": null,
   "metadata": {
    "id": "h0WCXg7drkfL"
   },
   "outputs": [],
   "source": [
    "x = 1\n",
    "type(x)"
   ]
  },
  {
   "cell_type": "markdown",
   "metadata": {
    "id": "QkwF5HL5rkfN"
   },
   "source": [
    "-  __float__:  real numbers with about 8 digits precision. There are modules that can give you arbitrary precision if needed."
   ]
  },
  {
   "cell_type": "code",
   "execution_count": null,
   "metadata": {
    "id": "h3y14FhYrkfO"
   },
   "outputs": [],
   "source": [
    "y = 2.0\n",
    "type(y)"
   ]
  },
  {
   "cell_type": "markdown",
   "metadata": {
    "id": "t12cXSvIrkfP"
   },
   "source": [
    "-  __string__:  A Python string (str) is a sequence of 0 or more characters enclosed within a pair of single quotes (') or a pair of double quotes (\")."
   ]
  },
  {
   "cell_type": "code",
   "execution_count": null,
   "metadata": {
    "id": "9T3Co1L6rkfQ",
    "outputId": "e8bda1f9-c7cc-48f1-a7db-d7d49842ddbf"
   },
   "outputs": [
    {
     "data": {
      "text/plain": [
       "str"
      ]
     },
     "execution_count": 1,
     "metadata": {},
     "output_type": "execute_result"
    }
   ],
   "source": [
    "a = 'Hello World!'\n",
    "type(a)"
   ]
  },
  {
   "cell_type": "code",
   "execution_count": 15,
   "metadata": {
    "colab": {
     "base_uri": "https://localhost:8080/"
    },
    "id": "JnVN3j_1rkfU",
    "outputId": "424df4da-2889-43fb-8947-3a1a370d9bd4"
   },
   "outputs": [
    {
     "name": "stdout",
     "output_type": "stream",
     "text": [
      "id(a)= 9796256\n",
      "True\n"
     ]
    }
   ],
   "source": [
    "a = 100\n",
    "print (\"id(a)=\", id(a))\n",
    "b = a\n",
    "print (a == b)"
   ]
  },
  {
   "cell_type": "markdown",
   "metadata": {
    "id": "Yv-Uyat9rkfV"
   },
   "source": [
    "The [Python tutorial](http://docs.python.org/2/tutorial/introduction.html) offers a helpful ASCII art representation to show how positive and negative indexes are interpreted:\n",
    "\n",
    "<pre>\n",
    " +---+---+---+---+---+---+\n",
    " | P | y | t | h | o | n |\n",
    " +---+---+---+---+---+---+\n",
    " 0   1   2   3   4   5   6\n",
    "-6  -5  -4  -3  -2  -1\n",
    "</pre>\n",
    "\n",
    "Think of the indices as pointing between characters, with the left edge of the first character numbered 0. Then the right edge of the last character of a string of n characters has index n, "
   ]
  },
  {
   "cell_type": "code",
   "execution_count": 16,
   "metadata": {
    "colab": {
     "base_uri": "https://localhost:8080/"
    },
    "id": "MMaBoEhyrkfW",
    "outputId": "75fa4b15-c75a-4e65-e7a2-e0664effbf05"
   },
   "outputs": [
    {
     "name": "stdout",
     "output_type": "stream",
     "text": [
      "Pythona\n"
     ]
    }
   ],
   "source": [
    "s = \"Python\"\n",
    "# s[0] = 'z'\n",
    "s2 = s+'a'\n",
    "print (s2)"
   ]
  },
  {
   "cell_type": "markdown",
   "metadata": {
    "id": "Rw9R-LCPrkfX"
   },
   "source": [
    "The Python slice notation can be used to access subsequences by specifying two index positions separated by a colon (':'); seq[start:stop] returns all the elements in seq between start and stop - 1 (inclusive).\n",
    "\n",
    "__Exercise: Predict and check the output of the following, assuming that s = \"abcdefg\"__\n",
    "-  print (s[0])\n",
    "-  print (s[6])\n",
    "-  print (s[7])\n",
    "-  print (s[-1])\n",
    "-  print (s[1:3])\n",
    "-  print (s[:3])\n",
    "-  print (s[3:])\n",
    "-  print (s[0:-2])\n",
    "-  print (s[0:100])\n",
    "-  s[0] = 'z'\n",
    "-  s[0:3] = ['x','y','z']\n",
    "-  print(len(s))"
   ]
  },
  {
   "cell_type": "code",
   "execution_count": 12,
   "metadata": {},
   "outputs": [
    {
     "name": "stdout",
     "output_type": "stream",
     "text": [
      "a\n",
      "g\n",
      "g\n",
      "bc\n",
      "abc\n",
      "defg\n",
      "abcde\n",
      "abcdefg\n",
      "7\n"
     ]
    }
   ],
   "source": [
    "s = \"abcdefg\"\n",
    "print(s[0]) #a\n",
    "print(s[6]) #g\n",
    "#print(s[7]) #IndexError\n",
    "print(s[-1]) #g\n",
    "print(s[1:3]) #bc\n",
    "print(s[:3]) #abc\n",
    "print(s[3:]) #defg\n",
    "print(s[0:-2]) #abcde\n",
    "print(s[0:100]) #abcdefg\n",
    "#s[0] = 'z' #TypeError\n",
    "#s[0:3] = ['x','y','z'] #TypeError\n",
    "print(len(s)) #7"
   ]
  },
  {
   "cell_type": "markdown",
   "metadata": {
    "id": "6hG_kO2DrkfZ"
   },
   "source": [
    "## 2. Comments"
   ]
  },
  {
   "cell_type": "markdown",
   "metadata": {
    "id": "TufvVe9drkfa"
   },
   "source": [
    "Commenting your code properly will help you and other understand and use it correctly. You should make this a habit when programming anything. Python allows for two types of comments: long multi-line comments and short inline comments. Your codes should contain a long comment at the beginning, which contains information for somebody using your code. \n",
    "\n",
    "The Python ***comment*** character is **`'#'`**: anything after `'#'` on the line is ignored by the Python interpreter. PEP8 style guidelines recommend using at least 2 blank spaces before an inline comment that appears on the same line as any code.\n",
    "\n",
    "***Multi-line strings*** can be used within code blocks to provide multi-line comments.\n",
    "\n",
    "Multi-line strings are delimited by pairs of triple quotes (**`'''`** or **`\"\"\"`**). Any newlines in the string will be represented as `'\\n'` characters in the string."
   ]
  },
  {
   "cell_type": "code",
   "execution_count": null,
   "metadata": {
    "id": "KocPzDSfrkfa",
    "outputId": "c514b445-555b-4fe9-fecf-f30d9c99a253"
   },
   "outputs": [
    {
     "name": "stdout",
     "output_type": "stream",
     "text": [
      "Before comment\n",
      "After comment\n"
     ]
    }
   ],
   "source": [
    "print('Before comment')  # this is an inline comment\n",
    "'''\n",
    "This is\n",
    "a multi-line\n",
    "comment\n",
    "'''\n",
    "print('After comment')"
   ]
  },
  {
   "cell_type": "code",
   "execution_count": null,
   "metadata": {
    "id": "6Xc-yQSErkfb"
   },
   "outputs": [],
   "source": []
  },
  {
   "cell_type": "markdown",
   "metadata": {
    "id": "Eg3SRW7_1Ew1"
   },
   "source": [
    "## 3. Intro to Models"
   ]
  },
  {
   "cell_type": "markdown",
   "metadata": {
    "id": "8IK5B2Br1IQ7"
   },
   "source": [
    "We will use models extensively in this class. To get you started, we prepare some fake data and see what we can do with it."
   ]
  },
  {
   "cell_type": "code",
   "execution_count": 1,
   "metadata": {
    "id": "z1-nl6OV1Y3s"
   },
   "outputs": [],
   "source": [
    "import numpy as np # a very popular package called numpy \n",
    "from sklearn import linear_model #most commonly used ML package called sklearn"
   ]
  },
  {
   "cell_type": "code",
   "execution_count": 2,
   "metadata": {
    "id": "doaV2dJV1V8z"
   },
   "outputs": [],
   "source": [
    "xs = np.array([-1.0, 0.0, 1.0, 2.0, 3.0, 4.0], dtype=float)\n",
    "ys = np.array([-2.0, 1.0, 4.0, 7.0, 10.0, 13.0], dtype=float)"
   ]
  },
  {
   "cell_type": "code",
   "execution_count": 9,
   "metadata": {
    "colab": {
     "base_uri": "https://localhost:8080/"
    },
    "id": "N5R8aknW1W1A",
    "outputId": "e5ec8a3b-72e2-4eb7-dfdc-b20217b223e2"
   },
   "outputs": [
    {
     "data": {
      "text/plain": [
       "1.0"
      ]
     },
     "execution_count": 9,
     "metadata": {},
     "output_type": "execute_result"
    }
   ],
   "source": [
    "xs=xs.reshape((-1, 1)) # reshape 1d into 2d\n",
    "reg = linear_model.LinearRegression() # get an instance \n",
    "reg = reg.fit(xs, ys) # fit\n",
    "reg.score(xs, ys) # print our reg score\n",
    "\n"
   ]
  },
  {
   "cell_type": "code",
   "execution_count": 10,
   "metadata": {
    "colab": {
     "base_uri": "https://localhost:8080/"
    },
    "id": "uL15nBy13qpS",
    "outputId": "a6178ab6-6098-4f1e-b7a3-edc79e3988c3"
   },
   "outputs": [
    {
     "data": {
      "text/plain": [
       "array([3.])"
      ]
     },
     "execution_count": 10,
     "metadata": {},
     "output_type": "execute_result"
    }
   ],
   "source": [
    "reg.coef_"
   ]
  },
  {
   "cell_type": "code",
   "execution_count": 11,
   "metadata": {
    "colab": {
     "base_uri": "https://localhost:8080/"
    },
    "id": "ZelCoZBz3ube",
    "outputId": "564ebbb0-6c88-43a2-9fc9-6a51716cd445"
   },
   "outputs": [
    {
     "data": {
      "text/plain": [
       "0.9999999999999991"
      ]
     },
     "execution_count": 11,
     "metadata": {},
     "output_type": "execute_result"
    }
   ],
   "source": [
    "reg.intercept_"
   ]
  },
  {
   "cell_type": "code",
   "execution_count": 14,
   "metadata": {
    "colab": {
     "base_uri": "https://localhost:8080/"
    },
    "id": "sT087yHK3wpT",
    "outputId": "cd359b9a-eec8-47be-ed16-c0975c8ab8a1"
   },
   "outputs": [
    {
     "data": {
      "text/plain": [
       "array([10., 16.])"
      ]
     },
     "execution_count": 14,
     "metadata": {},
     "output_type": "execute_result"
    }
   ],
   "source": [
    "reg.predict(np.array([[3, 5]]).reshape(-1,1)) #prediction using linear regression"
   ]
  }
 ],
 "metadata": {
  "colab": {
   "provenance": []
  },
  "kernelspec": {
   "display_name": "Python 3 (ipykernel)",
   "language": "python",
   "name": "python3"
  },
  "language_info": {
   "codemirror_mode": {
    "name": "ipython",
    "version": 3
   },
   "file_extension": ".py",
   "mimetype": "text/x-python",
   "name": "python",
   "nbconvert_exporter": "python",
   "pygments_lexer": "ipython3",
   "version": "3.9.12"
  }
 },
 "nbformat": 4,
 "nbformat_minor": 1
}
